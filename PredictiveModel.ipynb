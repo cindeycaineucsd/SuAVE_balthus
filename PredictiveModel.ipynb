{
 "cells": [
  {
   "cell_type": "code",
   "execution_count": 2,
   "metadata": {},
   "outputs": [],
   "source": [
    "# set the matplotlib backend so figures can be saved in the background\n",
    "import matplotlib\n",
    "matplotlib.use(\"Agg\")"
   ]
  },
  {
   "cell_type": "code",
   "execution_count": 5,
   "metadata": {},
   "outputs": [],
   "source": [
    "# import the necessary packages\n",
    "from keras.preprocessing.image import ImageDataGenerator\n",
    "from keras.optimizers import Adam\n",
    "from sklearn.model_selection import train_test_split\n",
    "from keras.preprocessing.image import img_to_array\n",
    "from keras.utils import to_categorical\n",
    "#from pyimagesearch.lenet import LeNet\n",
    "from imutils import paths"
   ]
  },
  {
   "cell_type": "code",
   "execution_count": 6,
   "metadata": {},
   "outputs": [],
   "source": [
    "# import the necessary packages\n",
    "from keras.utils import np_utils\n",
    "from keras.models import Sequential\n",
    "from keras.layers.convolutional import Conv2D\n",
    "from keras.layers.convolutional import MaxPooling2D\n",
    "from keras.layers.core import Activation\n",
    "from keras.layers.core import Flatten\n",
    "from keras.layers.core import Dense\n",
    "from keras.layers.core import Dropout\n",
    "from keras import backend as K"
   ]
  },
  {
   "cell_type": "code",
   "execution_count": 7,
   "metadata": {},
   "outputs": [],
   "source": [
    "class LeNet:\n",
    "\t@staticmethod\n",
    "\tdef build(width, height, depth, classes):\n",
    "\t\t# initialize the model\n",
    "\t\tmodel = Sequential()\n",
    "\t\tinputShape = (height, width, depth)\n",
    "\n",
    "\t\t# if we are using \"channels first\", update the input shape\n",
    "\t\tif K.image_data_format() == \"channels_first\":\n",
    "\t\t\tinputShape = (depth, height, width)\n",
    "\n",
    "\t\t# first set of CONV => RELU => POOL layers\n",
    "\t\tmodel.add(Conv2D(64, (3, 3), padding=\"same\",\n",
    "\t\t\tinput_shape=inputShape))\n",
    "\t\tmodel.add(Activation(\"relu\"))\n",
    "\t\tmodel.add(MaxPooling2D(pool_size=(2, 2), strides=(2, 2)))\n",
    "\n",
    "\t\t# second set of CONV => RELU => POOL layers\n",
    "\t\tmodel.add(Conv2D(128, (3, 3), padding=\"same\"))\n",
    "\t\tmodel.add(Activation(\"relu\"))\n",
    "\t\tmodel.add(MaxPooling2D(pool_size=(2, 2), strides=(2, 2)))\n",
    "        \n",
    "\t\t# third set of CONV => RELU => POOL layers\n",
    "\t\tmodel.add(Conv2D(256, (3, 3), padding=\"same\"))\n",
    "\t\tmodel.add(Activation(\"relu\"))\n",
    "\t\tmodel.add(MaxPooling2D(pool_size=(2, 2), strides=(2, 2)))\n",
    "              \n",
    "\t\t# first (and only) set of FC => RELU layers\n",
    "\t\tmodel.add(Flatten())\n",
    "\t\tmodel.add(Dense(1000))\n",
    "\t\tmodel.add(Activation(\"relu\"))\n",
    "\t\tmodel.add(Dropout(0.5))\n",
    "\n",
    "\t\t# softmax classifier\n",
    "\t\tmodel.add(Dense(classes))\n",
    "\t\tmodel.add(Activation(\"softmax\"))\n",
    "\n",
    "\t\t# return the constructed network architecture\n",
    "\t\treturn model"
   ]
  },
  {
   "cell_type": "code",
   "execution_count": 8,
   "metadata": {},
   "outputs": [],
   "source": [
    "import matplotlib.pyplot as plt\n",
    "import numpy as np\n",
    "import argparse\n",
    "import random\n",
    "import csv\n",
    "import pandas as pd\n",
    "import re\n",
    "import cv2\n",
    "import os"
   ]
  },
  {
   "cell_type": "code",
   "execution_count": 9,
   "metadata": {},
   "outputs": [],
   "source": [
    "# init the number of epochs to train for, init learning rate and batch size\n",
    "EPOCHS = 50\n",
    "INIT_LR = 1e-3\n",
    "BS = 32"
   ]
  },
  {
   "cell_type": "code",
   "execution_count": 10,
   "metadata": {},
   "outputs": [
    {
     "name": "stdout",
     "output_type": "stream",
     "text": [
      "[INFO] loading images...\n"
     ]
    }
   ],
   "source": [
    "# init the image suffix, yset, and image list\n",
    "print(\"[INFO] loading images...\")\n",
    "suffix = '.jpg'\n",
    "img_list = []\n",
    "yset = []"
   ]
  },
  {
   "cell_type": "code",
   "execution_count": 11,
   "metadata": {},
   "outputs": [],
   "source": [
    "# create labels list and 2 dicts for 2 way mapping\n",
    "labels = []\n",
    "# key = label value = number\n",
    "label_yval = dict()\n",
    "# key = number value = label\n",
    "yval_label = dict()"
   ]
  },
  {
   "cell_type": "code",
   "execution_count": 18,
   "metadata": {},
   "outputs": [],
   "source": [
    "# Testing Cells\n",
    "csv_file = 'balthus.csv'"
   ]
  },
  {
   "cell_type": "code",
   "execution_count": 19,
   "metadata": {},
   "outputs": [],
   "source": [
    "# use csv file to grab images/labels\n",
    "df = pd.read_csv(csv_file)\n",
    "nameCol = df['#img']\n",
    "predCol = df['Genre']"
   ]
  },
  {
   "cell_type": "code",
   "execution_count": 20,
   "metadata": {},
   "outputs": [],
   "source": [
    "# add all fabric columns to the y set\n",
    "for i in range (0,len(predCol)):\n",
    "    labels.append(predCol[i])"
   ]
  },
  {
   "cell_type": "code",
   "execution_count": 21,
   "metadata": {},
   "outputs": [],
   "source": [
    "# grab all unique labels\n",
    "uni_labels = set(labels)\n",
    "uni_labels = list(uni_labels)"
   ]
  },
  {
   "cell_type": "code",
   "execution_count": 22,
   "metadata": {},
   "outputs": [],
   "source": [
    "# assign each label a dict key number\n",
    "for i in range(0,len(uni_labels)):\n",
    "    yval_label[i] = uni_labels[i]\n",
    "    label_yval[uni_labels[i]] = i"
   ]
  },
  {
   "cell_type": "code",
   "execution_count": 23,
   "metadata": {},
   "outputs": [
    {
     "data": {
      "text/plain": [
       "{'cityscape': 4,\n",
       " 'genre painting': 3,\n",
       " 'landscape': 7,\n",
       " 'literary painting': 9,\n",
       " 'nude painting (nu)': 5,\n",
       " 'portrait': 2,\n",
       " 'self-portrait': 6,\n",
       " 'sketch and study': 8,\n",
       " 'still life': 0,\n",
       " 'symbolic painting': 1}"
      ]
     },
     "execution_count": 23,
     "metadata": {},
     "output_type": "execute_result"
    }
   ],
   "source": [
    "label_yval"
   ]
  },
  {
   "cell_type": "code",
   "execution_count": 24,
   "metadata": {},
   "outputs": [
    {
     "data": {
      "text/plain": [
       "96"
      ]
     },
     "execution_count": 24,
     "metadata": {},
     "output_type": "execute_result"
    }
   ],
   "source": [
    "len(labels)"
   ]
  },
  {
   "cell_type": "code",
   "execution_count": 25,
   "metadata": {},
   "outputs": [
    {
     "data": {
      "text/plain": [
       "3"
      ]
     },
     "execution_count": 25,
     "metadata": {},
     "output_type": "execute_result"
    }
   ],
   "source": [
    "label_yval[labels[0]]"
   ]
  },
  {
   "cell_type": "code",
   "execution_count": 26,
   "metadata": {},
   "outputs": [],
   "source": [
    "# create list of keys associated with their labels\n",
    "for i in range (0, len(labels)):\n",
    "    yset.append(label_yval[labels[i]])"
   ]
  },
  {
   "cell_type": "code",
   "execution_count": 27,
   "metadata": {},
   "outputs": [
    {
     "data": {
      "text/plain": [
       "96"
      ]
     },
     "execution_count": 27,
     "metadata": {},
     "output_type": "execute_result"
    }
   ],
   "source": [
    "len(yset)"
   ]
  },
  {
   "cell_type": "code",
   "execution_count": 28,
   "metadata": {},
   "outputs": [],
   "source": [
    "# remove text and leave fabric cave number for labels and zero index\n",
    "#for i in range (0,len(yset)):\n",
    "#    yset[i] = int(re.sub(\"\\D\", \"\", yset[i]))\n",
    "#    yset[i] = yset[i]-1"
   ]
  },
  {
   "cell_type": "code",
   "execution_count": 29,
   "metadata": {},
   "outputs": [],
   "source": [
    "# gather images from path created from file names in csv file\n",
    "for i in range (0,len(nameCol)):\n",
    "    base_filename = nameCol[i]\n",
    "    fileName = os.path.join(\"./images3/\", base_filename + suffix)\n",
    "    im = cv2.imread(fileName)\n",
    "    im = cv2.resize(im, (28,28))\n",
    "    im = img_to_array(im)\n",
    "    img_list.append(im)"
   ]
  },
  {
   "cell_type": "code",
   "execution_count": 30,
   "metadata": {},
   "outputs": [],
   "source": [
    "Y = []\n",
    "X = []"
   ]
  },
  {
   "cell_type": "code",
   "execution_count": 31,
   "metadata": {},
   "outputs": [],
   "source": [
    "# Shuffle the data\n",
    "p = np.random.permutation(len(yset))"
   ]
  },
  {
   "cell_type": "code",
   "execution_count": 32,
   "metadata": {},
   "outputs": [],
   "source": [
    "for i in range(0,len(yset)):\n",
    "    Y.append(yset[p[i]])\n",
    "    X.append(img_list[p[i]])"
   ]
  },
  {
   "cell_type": "code",
   "execution_count": 33,
   "metadata": {},
   "outputs": [],
   "source": [
    "# split the test and training set 75:25\n",
    "split = int(len(X)*(.75))\n",
    "xtrain = X[:split]\n",
    "xtest = X[split:]\n",
    "ytrain = Y[:split]\n",
    "ytest = Y[split:]"
   ]
  },
  {
   "cell_type": "code",
   "execution_count": 34,
   "metadata": {},
   "outputs": [],
   "source": [
    "# transform to arrays\n",
    "trainX = np.array(xtrain, dtype=\"float\")/225.0\n",
    "testX = np.array(xtest, dtype =\"float\")/225.0\n",
    "\n",
    "ytrain = np.array(ytrain)\n",
    "ytest = np.array(ytest)"
   ]
  },
  {
   "cell_type": "code",
   "execution_count": 35,
   "metadata": {},
   "outputs": [
    {
     "data": {
      "text/plain": [
       "(72, 28, 28, 3)"
      ]
     },
     "execution_count": 35,
     "metadata": {},
     "output_type": "execute_result"
    }
   ],
   "source": [
    "trainX.shape"
   ]
  },
  {
   "cell_type": "code",
   "execution_count": 36,
   "metadata": {},
   "outputs": [],
   "source": [
    "# parsed Y data containers\n",
    "trainY = []\n",
    "testY = []"
   ]
  },
  {
   "cell_type": "code",
   "execution_count": 37,
   "metadata": {},
   "outputs": [],
   "source": [
    "# convert labels from int to vectors\n",
    "trainY = np_utils.to_categorical(ytrain,12)\n",
    "testY = np_utils.to_categorical(ytest,12)"
   ]
  },
  {
   "cell_type": "code",
   "execution_count": 38,
   "metadata": {},
   "outputs": [],
   "source": [
    "# construct the image generator for data augmentation\n",
    "aug = ImageDataGenerator(rotation_range=30, width_shift_range=0.1,\n",
    "                        height_shift_range=0.1, shear_range=0.2, zoom_range=0.2,\n",
    "                        horizontal_flip=True, fill_mode=\"nearest\")"
   ]
  },
  {
   "cell_type": "code",
   "execution_count": 39,
   "metadata": {},
   "outputs": [
    {
     "name": "stdout",
     "output_type": "stream",
     "text": [
      "[INFO] compiling model...\n"
     ]
    }
   ],
   "source": [
    "# initialize the model\n",
    "print(\"[INFO] compiling model...\")\n",
    "model = LeNet.build(width=28, height=28, depth=3, classes=12)\n",
    "opt = Adam(lr=INIT_LR, decay=INIT_LR / EPOCHS)\n",
    "model.compile(loss=\"categorical_crossentropy\", optimizer=opt,\n",
    "                metrics=[\"accuracy\"])"
   ]
  },
  {
   "cell_type": "code",
   "execution_count": 40,
   "metadata": {},
   "outputs": [
    {
     "name": "stdout",
     "output_type": "stream",
     "text": [
      "[INFO] training network...\n",
      "Epoch 1/50\n",
      "3/2 [=============================================] - 2s 513ms/step - loss: 2.3651 - acc: 0.3219 - val_loss: 1.8711 - val_acc: 0.1667\n",
      "Epoch 2/50\n",
      "3/2 [=============================================] - 1s 282ms/step - loss: 2.2900 - acc: 0.0769 - val_loss: 2.1462 - val_acc: 0.0000e+00\n",
      "Epoch 3/50\n",
      "3/2 [=============================================] - 1s 288ms/step - loss: 2.0501 - acc: 0.2728 - val_loss: 1.9749 - val_acc: 0.4167\n",
      "Epoch 4/50\n",
      "3/2 [=============================================] - 1s 278ms/step - loss: 1.8552 - acc: 0.4147 - val_loss: 1.9119 - val_acc: 0.4167\n",
      "Epoch 5/50\n",
      "3/2 [=============================================] - 1s 285ms/step - loss: 1.8998 - acc: 0.4325 - val_loss: 1.8669 - val_acc: 0.4167\n",
      "Epoch 6/50\n",
      "3/2 [=============================================] - 1s 277ms/step - loss: 1.9415 - acc: 0.3041 - val_loss: 1.9189 - val_acc: 0.4167\n",
      "Epoch 7/50\n",
      "3/2 [=============================================] - 1s 281ms/step - loss: 1.8442 - acc: 0.4102 - val_loss: 1.8795 - val_acc: 0.4167\n",
      "Epoch 8/50\n",
      "3/2 [=============================================] - 1s 279ms/step - loss: 1.8536 - acc: 0.3661 - val_loss: 1.8505 - val_acc: 0.4167\n",
      "Epoch 9/50\n",
      "3/2 [=============================================] - 1s 280ms/step - loss: 1.8353 - acc: 0.4906 - val_loss: 1.8234 - val_acc: 0.4167\n",
      "Epoch 10/50\n",
      "3/2 [=============================================] - 1s 277ms/step - loss: 1.8371 - acc: 0.3566 - val_loss: 1.8167 - val_acc: 0.4167\n",
      "Epoch 11/50\n",
      "3/2 [=============================================] - 1s 274ms/step - loss: 1.8599 - acc: 0.3790 - val_loss: 1.8779 - val_acc: 0.4167\n",
      "Epoch 12/50\n",
      "3/2 [=============================================] - 1s 281ms/step - loss: 1.9447 - acc: 0.4137 - val_loss: 1.9253 - val_acc: 0.4167\n",
      "Epoch 13/50\n",
      "3/2 [=============================================] - 1s 284ms/step - loss: 1.9245 - acc: 0.4315 - val_loss: 1.8591 - val_acc: 0.4167\n",
      "Epoch 14/50\n",
      "3/2 [=============================================] - 1s 280ms/step - loss: 1.8792 - acc: 0.3879 - val_loss: 1.8388 - val_acc: 0.4167\n",
      "Epoch 15/50\n",
      "3/2 [=============================================] - 1s 289ms/step - loss: 1.8359 - acc: 0.3968 - val_loss: 1.7675 - val_acc: 0.4167\n",
      "Epoch 16/50\n",
      "3/2 [=============================================] - 1s 302ms/step - loss: 1.7099 - acc: 0.4772 - val_loss: 1.7588 - val_acc: 0.4167\n",
      "Epoch 17/50\n",
      "3/2 [=============================================] - 1s 285ms/step - loss: 1.8614 - acc: 0.3433 - val_loss: 1.7541 - val_acc: 0.4167\n",
      "Epoch 18/50\n",
      "3/2 [=============================================] - 1s 273ms/step - loss: 1.7627 - acc: 0.4306 - val_loss: 1.7537 - val_acc: 0.4167\n",
      "Epoch 19/50\n",
      "3/2 [=============================================] - 1s 288ms/step - loss: 1.8177 - acc: 0.4519 - val_loss: 1.7009 - val_acc: 0.4167\n",
      "Epoch 20/50\n",
      "3/2 [=============================================] - 1s 296ms/step - loss: 1.6193 - acc: 0.4618 - val_loss: 1.6890 - val_acc: 0.4167\n",
      "Epoch 21/50\n",
      "3/2 [=============================================] - 1s 297ms/step - loss: 1.6130 - acc: 0.4712 - val_loss: 1.7410 - val_acc: 0.3750\n",
      "Epoch 22/50\n",
      "3/2 [=============================================] - 1s 298ms/step - loss: 1.8997 - acc: 0.4216 - val_loss: 1.6633 - val_acc: 0.4167\n",
      "Epoch 23/50\n",
      "3/2 [=============================================] - 1s 297ms/step - loss: 1.6272 - acc: 0.4390 - val_loss: 1.6844 - val_acc: 0.4167\n",
      "Epoch 24/50\n",
      "3/2 [=============================================] - 1s 322ms/step - loss: 1.6552 - acc: 0.3864 - val_loss: 1.6307 - val_acc: 0.4167\n",
      "Epoch 25/50\n",
      "3/2 [=============================================] - 1s 283ms/step - loss: 1.6486 - acc: 0.4653 - val_loss: 1.6142 - val_acc: 0.5000\n",
      "Epoch 26/50\n",
      "3/2 [=============================================] - 1s 291ms/step - loss: 1.5667 - acc: 0.4697 - val_loss: 1.6773 - val_acc: 0.4583\n",
      "Epoch 27/50\n",
      "3/2 [=============================================] - 1s 289ms/step - loss: 1.7776 - acc: 0.3046 - val_loss: 1.7457 - val_acc: 0.3333\n",
      "Epoch 28/50\n",
      "3/2 [=============================================] - 1s 277ms/step - loss: 1.5837 - acc: 0.4821 - val_loss: 1.6660 - val_acc: 0.4583\n",
      "Epoch 29/50\n",
      "3/2 [=============================================] - 1s 301ms/step - loss: 1.6263 - acc: 0.4320 - val_loss: 1.6253 - val_acc: 0.4167\n",
      "Epoch 30/50\n",
      "3/2 [=============================================] - 1s 305ms/step - loss: 1.5644 - acc: 0.4524 - val_loss: 1.6219 - val_acc: 0.4167\n",
      "Epoch 31/50\n",
      "3/2 [=============================================] - 1s 304ms/step - loss: 1.6447 - acc: 0.3859 - val_loss: 1.6589 - val_acc: 0.4167\n",
      "Epoch 32/50\n",
      "3/2 [=============================================] - 1s 351ms/step - loss: 1.6409 - acc: 0.4524 - val_loss: 1.6670 - val_acc: 0.4167\n",
      "Epoch 33/50\n",
      "3/2 [=============================================] - 1s 341ms/step - loss: 1.5061 - acc: 0.5223 - val_loss: 1.6602 - val_acc: 0.4167\n",
      "Epoch 34/50\n",
      "3/2 [=============================================] - 1s 365ms/step - loss: 1.5728 - acc: 0.5258 - val_loss: 1.6595 - val_acc: 0.4167\n",
      "Epoch 35/50\n",
      "3/2 [=============================================] - 1s 346ms/step - loss: 1.6411 - acc: 0.4643 - val_loss: 1.7276 - val_acc: 0.3750\n",
      "Epoch 36/50\n",
      "3/2 [=============================================] - 1s 380ms/step - loss: 1.6126 - acc: 0.4658 - val_loss: 1.5913 - val_acc: 0.5000\n",
      "Epoch 37/50\n",
      "3/2 [=============================================] - 1s 341ms/step - loss: 1.4338 - acc: 0.4831 - val_loss: 1.5653 - val_acc: 0.5000\n",
      "Epoch 38/50\n",
      "3/2 [=============================================] - 1s 356ms/step - loss: 1.5933 - acc: 0.4871 - val_loss: 1.5737 - val_acc: 0.5000\n",
      "Epoch 39/50\n",
      "3/2 [=============================================] - 1s 361ms/step - loss: 1.3456 - acc: 0.5312 - val_loss: 1.6057 - val_acc: 0.4583\n",
      "Epoch 40/50\n",
      "3/2 [=============================================] - 1s 374ms/step - loss: 1.5115 - acc: 0.5169 - val_loss: 1.6485 - val_acc: 0.4167\n",
      "Epoch 41/50\n",
      "3/2 [=============================================] - 1s 364ms/step - loss: 1.2817 - acc: 0.5625 - val_loss: 1.6749 - val_acc: 0.5000\n",
      "Epoch 42/50\n",
      "3/2 [=============================================] - 1s 342ms/step - loss: 1.4970 - acc: 0.5129 - val_loss: 1.6935 - val_acc: 0.3750\n",
      "Epoch 43/50\n",
      "3/2 [=============================================] - 1s 362ms/step - loss: 1.4022 - acc: 0.5000 - val_loss: 1.8007 - val_acc: 0.3333\n",
      "Epoch 44/50\n",
      "3/2 [=============================================] - 1s 292ms/step - loss: 1.3530 - acc: 0.5823 - val_loss: 1.5872 - val_acc: 0.4583\n",
      "Epoch 45/50\n",
      "3/2 [=============================================] - 1s 330ms/step - loss: 1.5119 - acc: 0.5030 - val_loss: 1.5695 - val_acc: 0.4583\n",
      "Epoch 46/50\n",
      "3/2 [=============================================] - 1s 290ms/step - loss: 1.3697 - acc: 0.5441 - val_loss: 1.5876 - val_acc: 0.5000\n",
      "Epoch 47/50\n",
      "3/2 [=============================================] - 1s 286ms/step - loss: 1.5498 - acc: 0.4137 - val_loss: 1.6756 - val_acc: 0.3750\n",
      "Epoch 48/50\n",
      "3/2 [=============================================] - 1s 285ms/step - loss: 1.4370 - acc: 0.4792 - val_loss: 1.7246 - val_acc: 0.3333\n",
      "Epoch 49/50\n",
      "3/2 [=============================================] - 1s 334ms/step - loss: 1.3580 - acc: 0.4737 - val_loss: 1.9430 - val_acc: 0.2500\n",
      "Epoch 50/50\n",
      "3/2 [=============================================] - 1s 306ms/step - loss: 1.2983 - acc: 0.5387 - val_loss: 1.8082 - val_acc: 0.3333\n"
     ]
    }
   ],
   "source": [
    "# train the network\n",
    "print(\"[INFO] training network...\")\n",
    "H = model.fit_generator(aug.flow(trainX, trainY, batch_size=BS),\n",
    "    validation_data=(testX, testY), steps_per_epoch=len(trainX) // BS,\n",
    "    epochs=EPOCHS, verbose=1)"
   ]
  },
  {
   "cell_type": "code",
   "execution_count": 41,
   "metadata": {},
   "outputs": [],
   "source": [
    "# plot the training loss and accuracy \n",
    "plt.style.use(\"ggplot\")\n",
    "plt.figure()\n",
    "N = EPOCHS\n",
    "plt.plot(np.arange(0, N), H.history[\"loss\"], label=\"train_loss\")\n",
    "plt.plot(np.arange(0, N), H.history[\"val_loss\"], label=\"val_loss\")\n",
    "plt.plot(np.arange(0, N), H.history[\"acc\"], label=\"train_acc\")\n",
    "plt.plot(np.arange(0, N), H.history[\"val_acc\"], label=\"val_acc\")\n",
    "plt.title(\"Training Loss and Accuracy on Label Prediction\")\n",
    "plt.xlabel(\"Epoch #\")\n",
    "plt.ylabel(\"Loss/Accuracy\")\n",
    "plt.legend(loc=\"lower left\")\n",
    "plt.savefig('figure.png')"
   ]
  },
  {
   "cell_type": "code",
   "execution_count": 42,
   "metadata": {},
   "outputs": [],
   "source": [
    "# Shows chart in a popup. Close to keep going\n",
    "#chart = cv2.imread('figure.png',1)\n",
    "#cv2.imshow('Results',chart)\n",
    "#cv2.waitKey(0)\n",
    "#cv2.destroyAllWindows()"
   ]
  },
  {
   "cell_type": "code",
   "execution_count": 43,
   "metadata": {},
   "outputs": [],
   "source": [
    "# Reshape original input data images for predicting\n",
    "img_check = np.array(img_list, dtype =\"float\")/225.0"
   ]
  },
  {
   "cell_type": "code",
   "execution_count": 44,
   "metadata": {},
   "outputs": [],
   "source": [
    "predictionsMade = []"
   ]
  },
  {
   "cell_type": "code",
   "execution_count": 45,
   "metadata": {},
   "outputs": [],
   "source": [
    "preds = model.predict(img_check)"
   ]
  },
  {
   "cell_type": "code",
   "execution_count": 46,
   "metadata": {},
   "outputs": [],
   "source": [
    "# Run all data through the prediction model that was created\n",
    "for i in range (0,len(img_check)):\n",
    "    predIndex = np.where(preds[i] == np.amax(preds[i]))\n",
    "    prediction = int(predIndex[0][0])\n",
    "    predictionsMade.append(prediction)"
   ]
  },
  {
   "cell_type": "code",
   "execution_count": 47,
   "metadata": {},
   "outputs": [],
   "source": [
    "# Count how many correct predictions were made\n",
    "correct = 0\n",
    "for i in range (0,len(predictionsMade)):\n",
    "    if(predictionsMade[i] == yset[i]):\n",
    "        correct += 1 "
   ]
  },
  {
   "cell_type": "code",
   "execution_count": 48,
   "metadata": {},
   "outputs": [
    {
     "name": "stdout",
     "output_type": "stream",
     "text": [
      "Accuracy: 0.4895833333333333\n"
     ]
    }
   ],
   "source": [
    "print(\"Accuracy: \" + str(correct/len(yset)))"
   ]
  },
  {
   "cell_type": "code",
   "execution_count": 49,
   "metadata": {},
   "outputs": [],
   "source": [
    "# Translate back to original csv label names\n",
    "finalPred = []\n",
    "for i in range (0,len(predictionsMade)):\n",
    "    finalPred.append(yval_label[predictionsMade[i]])"
   ]
  },
  {
   "cell_type": "code",
   "execution_count": 50,
   "metadata": {},
   "outputs": [],
   "source": [
    "# Append the new column\n",
    "df['#predictions'] = finalPred"
   ]
  },
  {
   "cell_type": "code",
   "execution_count": 51,
   "metadata": {},
   "outputs": [],
   "source": [
    "# new file name\n",
    "new_file =  csv_file[:-4]+'_v1.csv'\n",
    "df.to_csv(new_file, index=None)"
   ]
  },
  {
   "cell_type": "code",
   "execution_count": null,
   "metadata": {},
   "outputs": [],
   "source": []
  }
 ],
 "metadata": {
  "kernelspec": {
   "display_name": "Python 3",
   "language": "python",
   "name": "python3"
  },
  "language_info": {
   "codemirror_mode": {
    "name": "ipython",
    "version": 3
   },
   "file_extension": ".py",
   "mimetype": "text/x-python",
   "name": "python",
   "nbconvert_exporter": "python",
   "pygments_lexer": "ipython3",
   "version": "3.6.3"
  }
 },
 "nbformat": 4,
 "nbformat_minor": 2
}
